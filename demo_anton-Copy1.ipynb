{
 "cells": [
  {
   "cell_type": "code",
   "execution_count": 5,
   "metadata": {
    "pycharm": {
     "name": "#%%\n"
    }
   },
   "outputs": [],
   "source": [
    "import os\n",
    "import glob\n",
    "import time\n",
    "from copy import deepcopy\n",
    "\n",
    "import numpy as np\n",
    "import pandas as pd\n",
    "import pyspark"
   ]
  },
  {
   "cell_type": "code",
   "execution_count": 6,
   "metadata": {},
   "outputs": [
    {
     "name": "stdout",
     "output_type": "stream",
     "text": [
      "The autoreload extension is already loaded. To reload it, use:\n",
      "  %reload_ext autoreload\n"
     ]
    }
   ],
   "source": [
    "%load_ext autoreload\n",
    "%autoreload 2"
   ]
  },
  {
   "cell_type": "code",
   "execution_count": 12,
   "metadata": {},
   "outputs": [],
   "source": [
    "SEED = 42\n",
    "np.random.seed(SEED)"
   ]
  },
  {
   "cell_type": "markdown",
   "metadata": {},
   "source": [
    "# Description"
   ]
  },
  {
   "cell_type": "markdown",
   "metadata": {},
   "source": [
    "Этот ноутбук описывает подход к транзакционным данным, имеющим многоуровневую структуру. Такими данными могут быть, например, список транзакций (покупок) клиента. Можно рассматривать их как одну единую последовательность, которую нужно свернуть (e.g. транзакции -> клиент), а можно сделать некоторую иерархию сверток (транзакции -> чеки -> клиент). Здесь рассматривается второй подход и используется библиотека pytorch-lifestream, которая позволит нам получить эмбеддинги первой свертки (эмбеддинги чеков), а затем свернуть чеки еще раз в качестве downstream-task и предсказывать, например, дефолт клиента."
   ]
  },
  {
   "cell_type": "markdown",
   "metadata": {},
   "source": [
    "Последовательные действия, которые мы совершим:\n",
    "- создадим искуственный датасет транзакций; присвоим каждой транзакции id чека и id клиента (транзакции из одного и того же чека могут быть только у одного клиента)\n",
    "- зададимся рандомным искуственным таргетом для downstream-task (классификации)\n",
    "- выполним препроцессинг данных и получим транзакционный pyspark.sql.DataFrame\n",
    "- сохраним его в виде sparkpickle (еще на кластере)\n",
    "- сериализуем имеющийся sparkpickle (уже на сервере)\n",
    "- выполним upstream task (сформируем эмбеддинги чеков с помощью библиотеки pytorch-lightning)\n",
    "- разделим чеки по клиентам, выполним еще 1 свертку и downstream-task (классификацию)"
   ]
  },
  {
   "cell_type": "markdown",
   "metadata": {
    "pycharm": {
     "name": "#%% md\n"
    }
   },
   "source": [
    "# Data"
   ]
  },
  {
   "cell_type": "markdown",
   "metadata": {
    "pycharm": {
     "name": "#%% md\n"
    }
   },
   "source": [
    "Абстрагируемся от данных и просто сгенерим несколько фичей для нашего условного датасета:"
   ]
  },
  {
   "cell_type": "code",
   "execution_count": 15,
   "metadata": {
    "pycharm": {
     "name": "#%%\n"
    }
   },
   "outputs": [],
   "source": [
    "np.random.seed(SEED)\n",
    "n_samples = 10000\n",
    "data = pd.DataFrame(np.random.randn(n_samples, 5))"
   ]
  },
  {
   "cell_type": "code",
   "execution_count": 16,
   "metadata": {
    "pycharm": {
     "name": "#%%\n"
    }
   },
   "outputs": [
    {
     "data": {
      "text/html": [
       "<div>\n",
       "<style scoped>\n",
       "    .dataframe tbody tr th:only-of-type {\n",
       "        vertical-align: middle;\n",
       "    }\n",
       "\n",
       "    .dataframe tbody tr th {\n",
       "        vertical-align: top;\n",
       "    }\n",
       "\n",
       "    .dataframe thead th {\n",
       "        text-align: right;\n",
       "    }\n",
       "</style>\n",
       "<table border=\"1\" class=\"dataframe\">\n",
       "  <thead>\n",
       "    <tr style=\"text-align: right;\">\n",
       "      <th></th>\n",
       "      <th>0</th>\n",
       "      <th>1</th>\n",
       "      <th>2</th>\n",
       "      <th>3</th>\n",
       "      <th>4</th>\n",
       "    </tr>\n",
       "  </thead>\n",
       "  <tbody>\n",
       "    <tr>\n",
       "      <th>0</th>\n",
       "      <td>0.496714</td>\n",
       "      <td>-0.138264</td>\n",
       "      <td>0.647689</td>\n",
       "      <td>1.523030</td>\n",
       "      <td>-0.234153</td>\n",
       "    </tr>\n",
       "    <tr>\n",
       "      <th>1</th>\n",
       "      <td>-0.234137</td>\n",
       "      <td>1.579213</td>\n",
       "      <td>0.767435</td>\n",
       "      <td>-0.469474</td>\n",
       "      <td>0.542560</td>\n",
       "    </tr>\n",
       "    <tr>\n",
       "      <th>2</th>\n",
       "      <td>-0.463418</td>\n",
       "      <td>-0.465730</td>\n",
       "      <td>0.241962</td>\n",
       "      <td>-1.913280</td>\n",
       "      <td>-1.724918</td>\n",
       "    </tr>\n",
       "    <tr>\n",
       "      <th>3</th>\n",
       "      <td>-0.562288</td>\n",
       "      <td>-1.012831</td>\n",
       "      <td>0.314247</td>\n",
       "      <td>-0.908024</td>\n",
       "      <td>-1.412304</td>\n",
       "    </tr>\n",
       "    <tr>\n",
       "      <th>4</th>\n",
       "      <td>1.465649</td>\n",
       "      <td>-0.225776</td>\n",
       "      <td>0.067528</td>\n",
       "      <td>-1.424748</td>\n",
       "      <td>-0.544383</td>\n",
       "    </tr>\n",
       "  </tbody>\n",
       "</table>\n",
       "</div>"
      ],
      "text/plain": [
       "          0         1         2         3         4\n",
       "0  0.496714 -0.138264  0.647689  1.523030 -0.234153\n",
       "1 -0.234137  1.579213  0.767435 -0.469474  0.542560\n",
       "2 -0.463418 -0.465730  0.241962 -1.913280 -1.724918\n",
       "3 -0.562288 -1.012831  0.314247 -0.908024 -1.412304\n",
       "4  1.465649 -0.225776  0.067528 -1.424748 -0.544383"
      ]
     },
     "execution_count": 16,
     "metadata": {},
     "output_type": "execute_result"
    }
   ],
   "source": [
    "data.head()"
   ]
  },
  {
   "cell_type": "code",
   "execution_count": 17,
   "metadata": {
    "pycharm": {
     "name": "#%%\n"
    }
   },
   "outputs": [],
   "source": [
    "data.columns = [str(i) for i in data.columns]"
   ]
  },
  {
   "cell_type": "markdown",
   "metadata": {
    "pycharm": {
     "name": "#%% md\n"
    }
   },
   "source": [
    "Добавим категориальные фичи:"
   ]
  },
  {
   "cell_type": "code",
   "execution_count": 24,
   "metadata": {
    "pycharm": {
     "name": "#%%\n"
    }
   },
   "outputs": [],
   "source": [
    "np.random.seed(SEED)\n",
    "cat = ['one', 'two', 'three']\n",
    "data['cat'] = np.random.choice(cat, n_samples)"
   ]
  },
  {
   "cell_type": "code",
   "execution_count": 25,
   "metadata": {
    "pycharm": {
     "name": "#%%\n"
    }
   },
   "outputs": [
    {
     "data": {
      "text/html": [
       "<div>\n",
       "<style scoped>\n",
       "    .dataframe tbody tr th:only-of-type {\n",
       "        vertical-align: middle;\n",
       "    }\n",
       "\n",
       "    .dataframe tbody tr th {\n",
       "        vertical-align: top;\n",
       "    }\n",
       "\n",
       "    .dataframe thead th {\n",
       "        text-align: right;\n",
       "    }\n",
       "</style>\n",
       "<table border=\"1\" class=\"dataframe\">\n",
       "  <thead>\n",
       "    <tr style=\"text-align: right;\">\n",
       "      <th></th>\n",
       "      <th>0</th>\n",
       "      <th>1</th>\n",
       "      <th>2</th>\n",
       "      <th>3</th>\n",
       "      <th>4</th>\n",
       "      <th>cat</th>\n",
       "    </tr>\n",
       "  </thead>\n",
       "  <tbody>\n",
       "    <tr>\n",
       "      <th>0</th>\n",
       "      <td>0.496714</td>\n",
       "      <td>-0.138264</td>\n",
       "      <td>0.647689</td>\n",
       "      <td>1.523030</td>\n",
       "      <td>-0.234153</td>\n",
       "      <td>three</td>\n",
       "    </tr>\n",
       "    <tr>\n",
       "      <th>1</th>\n",
       "      <td>-0.234137</td>\n",
       "      <td>1.579213</td>\n",
       "      <td>0.767435</td>\n",
       "      <td>-0.469474</td>\n",
       "      <td>0.542560</td>\n",
       "      <td>one</td>\n",
       "    </tr>\n",
       "    <tr>\n",
       "      <th>2</th>\n",
       "      <td>-0.463418</td>\n",
       "      <td>-0.465730</td>\n",
       "      <td>0.241962</td>\n",
       "      <td>-1.913280</td>\n",
       "      <td>-1.724918</td>\n",
       "      <td>three</td>\n",
       "    </tr>\n",
       "    <tr>\n",
       "      <th>3</th>\n",
       "      <td>-0.562288</td>\n",
       "      <td>-1.012831</td>\n",
       "      <td>0.314247</td>\n",
       "      <td>-0.908024</td>\n",
       "      <td>-1.412304</td>\n",
       "      <td>three</td>\n",
       "    </tr>\n",
       "    <tr>\n",
       "      <th>4</th>\n",
       "      <td>1.465649</td>\n",
       "      <td>-0.225776</td>\n",
       "      <td>0.067528</td>\n",
       "      <td>-1.424748</td>\n",
       "      <td>-0.544383</td>\n",
       "      <td>one</td>\n",
       "    </tr>\n",
       "  </tbody>\n",
       "</table>\n",
       "</div>"
      ],
      "text/plain": [
       "          0         1         2         3         4    cat\n",
       "0  0.496714 -0.138264  0.647689  1.523030 -0.234153  three\n",
       "1 -0.234137  1.579213  0.767435 -0.469474  0.542560    one\n",
       "2 -0.463418 -0.465730  0.241962 -1.913280 -1.724918  three\n",
       "3 -0.562288 -1.012831  0.314247 -0.908024 -1.412304  three\n",
       "4  1.465649 -0.225776  0.067528 -1.424748 -0.544383    one"
      ]
     },
     "execution_count": 25,
     "metadata": {},
     "output_type": "execute_result"
    }
   ],
   "source": [
    "data.head()"
   ]
  },
  {
   "cell_type": "markdown",
   "metadata": {
    "pycharm": {
     "name": "#%% md\n"
    }
   },
   "source": [
    "Добавим рандомное поле даты:"
   ]
  },
  {
   "cell_type": "code",
   "execution_count": 43,
   "metadata": {
    "pycharm": {
     "name": "#%%\n"
    }
   },
   "outputs": [],
   "source": [
    "from random import randrange\n",
    "from datetime import timedelta, datetime\n",
    "\n",
    "def random_date(start, end):\n",
    "    \"\"\"\n",
    "    This function will return a random datetime between two datetime\n",
    "    objects.\n",
    "    \"\"\"\n",
    "    delta = end - start\n",
    "    int_delta = (delta.days * 24 * 60 * 60) + delta.seconds\n",
    "    random_second = randrange(int_delta)\n",
    "    return start + timedelta(seconds=random_second)"
   ]
  },
  {
   "cell_type": "code",
   "execution_count": 44,
   "metadata": {
    "pycharm": {
     "name": "#%%\n"
    }
   },
   "outputs": [],
   "source": [
    "d1 = datetime.strptime('1/1/2008 1:30 PM', '%m/%d/%Y %I:%M %p')\n",
    "d2 = datetime.strptime('1/1/2009 4:50 AM', '%m/%d/%Y %I:%M %p')\n",
    "\n",
    "data['date'] = [random_date(d1, d2) for _ in range(n_samples)]"
   ]
  },
  {
   "cell_type": "code",
   "execution_count": 45,
   "metadata": {
    "pycharm": {
     "name": "#%%\n"
    }
   },
   "outputs": [
    {
     "data": {
      "text/html": [
       "<div>\n",
       "<style scoped>\n",
       "    .dataframe tbody tr th:only-of-type {\n",
       "        vertical-align: middle;\n",
       "    }\n",
       "\n",
       "    .dataframe tbody tr th {\n",
       "        vertical-align: top;\n",
       "    }\n",
       "\n",
       "    .dataframe thead th {\n",
       "        text-align: right;\n",
       "    }\n",
       "</style>\n",
       "<table border=\"1\" class=\"dataframe\">\n",
       "  <thead>\n",
       "    <tr style=\"text-align: right;\">\n",
       "      <th></th>\n",
       "      <th>0</th>\n",
       "      <th>1</th>\n",
       "      <th>2</th>\n",
       "      <th>3</th>\n",
       "      <th>4</th>\n",
       "      <th>cat</th>\n",
       "      <th>date</th>\n",
       "      <th>receipt_id</th>\n",
       "      <th>target</th>\n",
       "    </tr>\n",
       "  </thead>\n",
       "  <tbody>\n",
       "    <tr>\n",
       "      <th>0</th>\n",
       "      <td>0.496714</td>\n",
       "      <td>-0.138264</td>\n",
       "      <td>0.647689</td>\n",
       "      <td>1.523030</td>\n",
       "      <td>-0.234153</td>\n",
       "      <td>three</td>\n",
       "      <td>2008-08-19 17:39:42</td>\n",
       "      <td>861</td>\n",
       "      <td>1</td>\n",
       "    </tr>\n",
       "    <tr>\n",
       "      <th>1</th>\n",
       "      <td>-0.234137</td>\n",
       "      <td>1.579213</td>\n",
       "      <td>0.767435</td>\n",
       "      <td>-0.469474</td>\n",
       "      <td>0.542560</td>\n",
       "      <td>one</td>\n",
       "      <td>2008-05-17 21:36:41</td>\n",
       "      <td>1295</td>\n",
       "      <td>1</td>\n",
       "    </tr>\n",
       "    <tr>\n",
       "      <th>2</th>\n",
       "      <td>-0.463418</td>\n",
       "      <td>-0.465730</td>\n",
       "      <td>0.241962</td>\n",
       "      <td>-1.913280</td>\n",
       "      <td>-1.724918</td>\n",
       "      <td>three</td>\n",
       "      <td>2008-09-28 13:30:45</td>\n",
       "      <td>1131</td>\n",
       "      <td>1</td>\n",
       "    </tr>\n",
       "    <tr>\n",
       "      <th>3</th>\n",
       "      <td>-0.562288</td>\n",
       "      <td>-1.012831</td>\n",
       "      <td>0.314247</td>\n",
       "      <td>-0.908024</td>\n",
       "      <td>-1.412304</td>\n",
       "      <td>three</td>\n",
       "      <td>2008-07-16 03:40:22</td>\n",
       "      <td>1096</td>\n",
       "      <td>1</td>\n",
       "    </tr>\n",
       "    <tr>\n",
       "      <th>4</th>\n",
       "      <td>1.465649</td>\n",
       "      <td>-0.225776</td>\n",
       "      <td>0.067528</td>\n",
       "      <td>-1.424748</td>\n",
       "      <td>-0.544383</td>\n",
       "      <td>one</td>\n",
       "      <td>2008-04-12 14:33:01</td>\n",
       "      <td>1639</td>\n",
       "      <td>0</td>\n",
       "    </tr>\n",
       "  </tbody>\n",
       "</table>\n",
       "</div>"
      ],
      "text/plain": [
       "          0         1         2         3         4    cat  \\\n",
       "0  0.496714 -0.138264  0.647689  1.523030 -0.234153  three   \n",
       "1 -0.234137  1.579213  0.767435 -0.469474  0.542560    one   \n",
       "2 -0.463418 -0.465730  0.241962 -1.913280 -1.724918  three   \n",
       "3 -0.562288 -1.012831  0.314247 -0.908024 -1.412304  three   \n",
       "4  1.465649 -0.225776  0.067528 -1.424748 -0.544383    one   \n",
       "\n",
       "                 date  receipt_id  target  \n",
       "0 2008-08-19 17:39:42         861       1  \n",
       "1 2008-05-17 21:36:41        1295       1  \n",
       "2 2008-09-28 13:30:45        1131       1  \n",
       "3 2008-07-16 03:40:22        1096       1  \n",
       "4 2008-04-12 14:33:01        1639       0  "
      ]
     },
     "execution_count": 45,
     "metadata": {},
     "output_type": "execute_result"
    }
   ],
   "source": [
    "data.head()"
   ]
  },
  {
   "cell_type": "markdown",
   "metadata": {
    "pycharm": {
     "name": "#%% md\n"
    }
   },
   "source": [
    "Представим, что это какие-то данные по транзакциям из чеков, дадим 2 id этим чекам: id чека и id пользователя (так как данные искусственные, дадим id пользователя уже после свертки по чекам, в реальности нужно будет иметь mapping [id чека -> id юзера], чтобы потом сматчить"
   ]
  },
  {
   "cell_type": "code",
   "execution_count": 46,
   "metadata": {
    "pycharm": {
     "name": "#%%\n"
    }
   },
   "outputs": [],
   "source": [
    "np.random.seed(SEED)\n",
    "USER_ID = 'user_id'\n",
    "RECEIPT_ID = 'receipt_id'\n",
    "data[RECEIPT_ID] = np.random.randint(1, 3000, n_samples)"
   ]
  },
  {
   "cell_type": "code",
   "execution_count": 47,
   "metadata": {
    "pycharm": {
     "name": "#%%\n"
    }
   },
   "outputs": [
    {
     "data": {
      "text/html": [
       "<div>\n",
       "<style scoped>\n",
       "    .dataframe tbody tr th:only-of-type {\n",
       "        vertical-align: middle;\n",
       "    }\n",
       "\n",
       "    .dataframe tbody tr th {\n",
       "        vertical-align: top;\n",
       "    }\n",
       "\n",
       "    .dataframe thead th {\n",
       "        text-align: right;\n",
       "    }\n",
       "</style>\n",
       "<table border=\"1\" class=\"dataframe\">\n",
       "  <thead>\n",
       "    <tr style=\"text-align: right;\">\n",
       "      <th></th>\n",
       "      <th>0</th>\n",
       "      <th>1</th>\n",
       "      <th>2</th>\n",
       "      <th>3</th>\n",
       "      <th>4</th>\n",
       "      <th>cat</th>\n",
       "      <th>date</th>\n",
       "      <th>receipt_id</th>\n",
       "      <th>target</th>\n",
       "    </tr>\n",
       "  </thead>\n",
       "  <tbody>\n",
       "    <tr>\n",
       "      <th>0</th>\n",
       "      <td>0.496714</td>\n",
       "      <td>-0.138264</td>\n",
       "      <td>0.647689</td>\n",
       "      <td>1.523030</td>\n",
       "      <td>-0.234153</td>\n",
       "      <td>three</td>\n",
       "      <td>2008-08-19 17:39:42</td>\n",
       "      <td>861</td>\n",
       "      <td>1</td>\n",
       "    </tr>\n",
       "    <tr>\n",
       "      <th>1</th>\n",
       "      <td>-0.234137</td>\n",
       "      <td>1.579213</td>\n",
       "      <td>0.767435</td>\n",
       "      <td>-0.469474</td>\n",
       "      <td>0.542560</td>\n",
       "      <td>one</td>\n",
       "      <td>2008-05-17 21:36:41</td>\n",
       "      <td>1295</td>\n",
       "      <td>1</td>\n",
       "    </tr>\n",
       "    <tr>\n",
       "      <th>2</th>\n",
       "      <td>-0.463418</td>\n",
       "      <td>-0.465730</td>\n",
       "      <td>0.241962</td>\n",
       "      <td>-1.913280</td>\n",
       "      <td>-1.724918</td>\n",
       "      <td>three</td>\n",
       "      <td>2008-09-28 13:30:45</td>\n",
       "      <td>1131</td>\n",
       "      <td>1</td>\n",
       "    </tr>\n",
       "    <tr>\n",
       "      <th>3</th>\n",
       "      <td>-0.562288</td>\n",
       "      <td>-1.012831</td>\n",
       "      <td>0.314247</td>\n",
       "      <td>-0.908024</td>\n",
       "      <td>-1.412304</td>\n",
       "      <td>three</td>\n",
       "      <td>2008-07-16 03:40:22</td>\n",
       "      <td>1096</td>\n",
       "      <td>1</td>\n",
       "    </tr>\n",
       "    <tr>\n",
       "      <th>4</th>\n",
       "      <td>1.465649</td>\n",
       "      <td>-0.225776</td>\n",
       "      <td>0.067528</td>\n",
       "      <td>-1.424748</td>\n",
       "      <td>-0.544383</td>\n",
       "      <td>one</td>\n",
       "      <td>2008-04-12 14:33:01</td>\n",
       "      <td>1639</td>\n",
       "      <td>0</td>\n",
       "    </tr>\n",
       "  </tbody>\n",
       "</table>\n",
       "</div>"
      ],
      "text/plain": [
       "          0         1         2         3         4    cat  \\\n",
       "0  0.496714 -0.138264  0.647689  1.523030 -0.234153  three   \n",
       "1 -0.234137  1.579213  0.767435 -0.469474  0.542560    one   \n",
       "2 -0.463418 -0.465730  0.241962 -1.913280 -1.724918  three   \n",
       "3 -0.562288 -1.012831  0.314247 -0.908024 -1.412304  three   \n",
       "4  1.465649 -0.225776  0.067528 -1.424748 -0.544383    one   \n",
       "\n",
       "                 date  receipt_id  target  \n",
       "0 2008-08-19 17:39:42         861       1  \n",
       "1 2008-05-17 21:36:41        1295       1  \n",
       "2 2008-09-28 13:30:45        1131       1  \n",
       "3 2008-07-16 03:40:22        1096       1  \n",
       "4 2008-04-12 14:33:01        1639       0  "
      ]
     },
     "execution_count": 47,
     "metadata": {},
     "output_type": "execute_result"
    }
   ],
   "source": [
    "data.head()"
   ]
  },
  {
   "cell_type": "markdown",
   "metadata": {
    "pycharm": {
     "name": "#%% md\n"
    }
   },
   "source": [
    "Добавим еще таргет:"
   ]
  },
  {
   "cell_type": "code",
   "execution_count": 48,
   "metadata": {
    "pycharm": {
     "name": "#%%\n"
    }
   },
   "outputs": [],
   "source": [
    "np.random.seed(SEED)\n",
    "mapping = {i: np.random.randint(0, 2) for i in range(1, 3001)}"
   ]
  },
  {
   "cell_type": "code",
   "execution_count": 49,
   "metadata": {
    "pycharm": {
     "name": "#%%\n"
    }
   },
   "outputs": [],
   "source": [
    "TARGET = 'target'\n",
    "data[TARGET] = data[RECEIPT_ID].map(mapping)"
   ]
  },
  {
   "cell_type": "code",
   "execution_count": 50,
   "metadata": {
    "pycharm": {
     "name": "#%%\n"
    }
   },
   "outputs": [
    {
     "data": {
      "text/html": [
       "<div>\n",
       "<style scoped>\n",
       "    .dataframe tbody tr th:only-of-type {\n",
       "        vertical-align: middle;\n",
       "    }\n",
       "\n",
       "    .dataframe tbody tr th {\n",
       "        vertical-align: top;\n",
       "    }\n",
       "\n",
       "    .dataframe thead th {\n",
       "        text-align: right;\n",
       "    }\n",
       "</style>\n",
       "<table border=\"1\" class=\"dataframe\">\n",
       "  <thead>\n",
       "    <tr style=\"text-align: right;\">\n",
       "      <th></th>\n",
       "      <th>0</th>\n",
       "      <th>1</th>\n",
       "      <th>2</th>\n",
       "      <th>3</th>\n",
       "      <th>4</th>\n",
       "      <th>cat</th>\n",
       "      <th>date</th>\n",
       "      <th>receipt_id</th>\n",
       "      <th>target</th>\n",
       "    </tr>\n",
       "  </thead>\n",
       "  <tbody>\n",
       "    <tr>\n",
       "      <th>0</th>\n",
       "      <td>0.496714</td>\n",
       "      <td>-0.138264</td>\n",
       "      <td>0.647689</td>\n",
       "      <td>1.523030</td>\n",
       "      <td>-0.234153</td>\n",
       "      <td>three</td>\n",
       "      <td>2008-08-19 17:39:42</td>\n",
       "      <td>861</td>\n",
       "      <td>1</td>\n",
       "    </tr>\n",
       "    <tr>\n",
       "      <th>1</th>\n",
       "      <td>-0.234137</td>\n",
       "      <td>1.579213</td>\n",
       "      <td>0.767435</td>\n",
       "      <td>-0.469474</td>\n",
       "      <td>0.542560</td>\n",
       "      <td>one</td>\n",
       "      <td>2008-05-17 21:36:41</td>\n",
       "      <td>1295</td>\n",
       "      <td>1</td>\n",
       "    </tr>\n",
       "    <tr>\n",
       "      <th>2</th>\n",
       "      <td>-0.463418</td>\n",
       "      <td>-0.465730</td>\n",
       "      <td>0.241962</td>\n",
       "      <td>-1.913280</td>\n",
       "      <td>-1.724918</td>\n",
       "      <td>three</td>\n",
       "      <td>2008-09-28 13:30:45</td>\n",
       "      <td>1131</td>\n",
       "      <td>1</td>\n",
       "    </tr>\n",
       "    <tr>\n",
       "      <th>3</th>\n",
       "      <td>-0.562288</td>\n",
       "      <td>-1.012831</td>\n",
       "      <td>0.314247</td>\n",
       "      <td>-0.908024</td>\n",
       "      <td>-1.412304</td>\n",
       "      <td>three</td>\n",
       "      <td>2008-07-16 03:40:22</td>\n",
       "      <td>1096</td>\n",
       "      <td>1</td>\n",
       "    </tr>\n",
       "    <tr>\n",
       "      <th>4</th>\n",
       "      <td>1.465649</td>\n",
       "      <td>-0.225776</td>\n",
       "      <td>0.067528</td>\n",
       "      <td>-1.424748</td>\n",
       "      <td>-0.544383</td>\n",
       "      <td>one</td>\n",
       "      <td>2008-04-12 14:33:01</td>\n",
       "      <td>1639</td>\n",
       "      <td>0</td>\n",
       "    </tr>\n",
       "  </tbody>\n",
       "</table>\n",
       "</div>"
      ],
      "text/plain": [
       "          0         1         2         3         4    cat  \\\n",
       "0  0.496714 -0.138264  0.647689  1.523030 -0.234153  three   \n",
       "1 -0.234137  1.579213  0.767435 -0.469474  0.542560    one   \n",
       "2 -0.463418 -0.465730  0.241962 -1.913280 -1.724918  three   \n",
       "3 -0.562288 -1.012831  0.314247 -0.908024 -1.412304  three   \n",
       "4  1.465649 -0.225776  0.067528 -1.424748 -0.544383    one   \n",
       "\n",
       "                 date  receipt_id  target  \n",
       "0 2008-08-19 17:39:42         861       1  \n",
       "1 2008-05-17 21:36:41        1295       1  \n",
       "2 2008-09-28 13:30:45        1131       1  \n",
       "3 2008-07-16 03:40:22        1096       1  \n",
       "4 2008-04-12 14:33:01        1639       0  "
      ]
     },
     "execution_count": 50,
     "metadata": {},
     "output_type": "execute_result"
    }
   ],
   "source": [
    "data.head()"
   ]
  },
  {
   "cell_type": "markdown",
   "metadata": {
    "pycharm": {
     "name": "#%% md\n"
    }
   },
   "source": [
    "# Preprocessing"
   ]
  },
  {
   "cell_type": "markdown",
   "metadata": {},
   "source": [
    "### Эта часть - на кластере"
   ]
  },
  {
   "cell_type": "code",
   "execution_count": 51,
   "metadata": {
    "pycharm": {
     "name": "#%%\n"
    }
   },
   "outputs": [
    {
     "name": "stdout",
     "output_type": "stream",
     "text": [
      "<class 'pandas.core.frame.DataFrame'>\n",
      "RangeIndex: 10000 entries, 0 to 9999\n",
      "Data columns (total 9 columns):\n",
      " #   Column      Non-Null Count  Dtype         \n",
      "---  ------      --------------  -----         \n",
      " 0   0           10000 non-null  float64       \n",
      " 1   1           10000 non-null  float64       \n",
      " 2   2           10000 non-null  float64       \n",
      " 3   3           10000 non-null  float64       \n",
      " 4   4           10000 non-null  float64       \n",
      " 5   cat         10000 non-null  object        \n",
      " 6   date        10000 non-null  datetime64[ns]\n",
      " 7   receipt_id  10000 non-null  int64         \n",
      " 8   target      10000 non-null  int64         \n",
      "dtypes: datetime64[ns](1), float64(5), int64(2), object(1)\n",
      "memory usage: 703.2+ KB\n"
     ]
    }
   ],
   "source": [
    "data.info()"
   ]
  },
  {
   "cell_type": "markdown",
   "metadata": {},
   "source": [
    "В классе ниже можно переопределять его поведение так, как тебе нужно:"
   ]
  },
  {
   "cell_type": "code",
   "execution_count": 52,
   "metadata": {
    "pycharm": {
     "name": "#%%\n"
    }
   },
   "outputs": [],
   "source": [
    "from dltranz.data_preprocessing.receipts_pyspark_preprocessor import PysparkDataPreprocessor"
   ]
  },
  {
   "cell_type": "code",
   "execution_count": 53,
   "metadata": {
    "pycharm": {
     "name": "#%%\n"
    }
   },
   "outputs": [],
   "source": [
    "cols_log_norm = [str(i) for i in range(5)]\n",
    "preprocessor = PysparkDataPreprocessor(col_id=RECEIPT_ID, cols_event_time='date', cols_category=['cat'], \n",
    "                                       cols_log_norm=cols_log_norm, target_col=TARGET)"
   ]
  },
  {
   "cell_type": "code",
   "execution_count": null,
   "metadata": {},
   "outputs": [],
   "source": [
    "sc = pyspark.SparkContext()\n",
    "sqlCtx = pyspark.SQLContext(sc)"
   ]
  },
  {
   "cell_type": "code",
   "execution_count": 55,
   "metadata": {},
   "outputs": [],
   "source": [
    "data_spark = sqlCtx.createDataFrame(data)"
   ]
  },
  {
   "cell_type": "code",
   "execution_count": 56,
   "metadata": {
    "pycharm": {
     "name": "#%%\n"
    }
   },
   "outputs": [
    {
     "name": "stdout",
     "output_type": "stream",
     "text": [
      "root\n",
      " |-- 0: double (nullable = true)\n",
      " |-- 1: double (nullable = true)\n",
      " |-- 2: double (nullable = true)\n",
      " |-- 3: double (nullable = true)\n",
      " |-- 4: double (nullable = true)\n",
      " |-- cat: string (nullable = true)\n",
      " |-- date: timestamp (nullable = true)\n",
      " |-- receipt_id: long (nullable = true)\n",
      " |-- target: long (nullable = true)\n",
      "\n"
     ]
    }
   ],
   "source": [
    "data_spark.printSchema()"
   ]
  },
  {
   "cell_type": "code",
   "execution_count": 57,
   "metadata": {},
   "outputs": [],
   "source": [
    "data_trans = preprocessor.fit_transform(data_spark)"
   ]
  },
  {
   "cell_type": "code",
   "execution_count": 58,
   "metadata": {},
   "outputs": [
    {
     "name": "stdout",
     "output_type": "stream",
     "text": [
      "root\n",
      " |-- receipt_id: long (nullable = true)\n",
      " |-- transactions: array (nullable = true)\n",
      " |    |-- element: struct (containsNull = true)\n",
      " |    |    |-- 0: double (nullable = true)\n",
      " |    |    |-- 1: double (nullable = true)\n",
      " |    |    |-- 2: double (nullable = true)\n",
      " |    |    |-- 3: double (nullable = true)\n",
      " |    |    |-- 4: double (nullable = true)\n",
      " |    |    |-- event_time: double (nullable = true)\n",
      " |    |    |-- cat: integer (nullable = true)\n",
      " |    |    |-- target_target: long (nullable = true)\n",
      "\n"
     ]
    }
   ],
   "source": [
    "data_trans.printSchema()"
   ]
  },
  {
   "cell_type": "code",
   "execution_count": 59,
   "metadata": {},
   "outputs": [],
   "source": [
    "#получаем размерности для категориальных эмбеддингов\n",
    "embs_size = preprocessor.get_category_sizes()"
   ]
  },
  {
   "cell_type": "code",
   "execution_count": 60,
   "metadata": {},
   "outputs": [
    {
     "data": {
      "text/plain": [
       "{'cat': 4}"
      ]
     },
     "execution_count": 60,
     "metadata": {},
     "output_type": "execute_result"
    }
   ],
   "source": [
    "embs_size"
   ]
  },
  {
   "cell_type": "code",
   "execution_count": 61,
   "metadata": {},
   "outputs": [],
   "source": [
    "#сделать репартишн, если нужно\n",
    "#data_trans = data_trans.repartition(10)"
   ]
  },
  {
   "cell_type": "markdown",
   "metadata": {},
   "source": [
    "Три функции ниже выполняют схожий функционал, как твои из ноутбуков 04, 05, только абстрагируют свое поведение в зависимости от данных. Можно также прочитать доку для каждой функции и каждого написанного класса"
   ]
  },
  {
   "cell_type": "code",
   "execution_count": 62,
   "metadata": {},
   "outputs": [],
   "source": [
    "from alpha_data_load.utilities import preprocess_data_template, read_pickle_template, serialize_pickled"
   ]
  },
  {
   "cell_type": "markdown",
   "metadata": {},
   "source": [
    "Это определение типа данных для каждой фичи, обязательно нужно переопределять для своей задачи"
   ]
  },
  {
   "cell_type": "code",
   "execution_count": 63,
   "metadata": {},
   "outputs": [],
   "source": [
    "feature_arrays = {\n",
    "    '0': np.float32,\n",
    "    '1': np.float32,\n",
    "    '2': np.float32,\n",
    "    '3': np.float32,\n",
    "    '4': np.float32,\n",
    "    'event_time': np.float32,\n",
    "    'cat': np.int32,\n",
    "    'target_target': np.int64\n",
    "}"
   ]
  },
  {
   "cell_type": "code",
   "execution_count": 64,
   "metadata": {},
   "outputs": [],
   "source": [
    "#функция для пиклирования\n",
    "preprocess_data = lambda row: preprocess_data_template(row=row, id=RECEIPT_ID,\n",
    "                                                       feature_arrays=feature_arrays, array_col='transactions', \n",
    "                                                       sort_by='event_time', one_level=True)"
   ]
  },
  {
   "cell_type": "code",
   "execution_count": 65,
   "metadata": {},
   "outputs": [],
   "source": [
    "pickle_file_path = 'data/receipts_pickled'"
   ]
  },
  {
   "cell_type": "code",
   "execution_count": 66,
   "metadata": {},
   "outputs": [],
   "source": [
    "data_trans\\\n",
    "    .filter(f'{RECEIPT_ID} is not null')\\\n",
    "    .rdd.map(preprocess_data)\\\n",
    "    .saveAsPickleFile(pickle_file_path)"
   ]
  },
  {
   "cell_type": "markdown",
   "metadata": {},
   "source": [
    "Дальше нужно перенести данные на сервер и продолжать работать там"
   ]
  },
  {
   "cell_type": "markdown",
   "metadata": {},
   "source": [
    "### На сервере"
   ]
  },
  {
   "cell_type": "markdown",
   "metadata": {},
   "source": [
    "#### Сериализация"
   ]
  },
  {
   "cell_type": "code",
   "execution_count": 67,
   "metadata": {},
   "outputs": [],
   "source": [
    "#обертка для read_pickle_template\n",
    "#поменять внутренности на те, которые нужны\n",
    "def read_pickle(file_path):\n",
    "    col_date = []\n",
    "    array_col = ''\n",
    "    date_col = ''\n",
    "    id_col = RECEIPT_ID\n",
    "    some_feature = '0'\n",
    "    one_layer = True\n",
    "    return read_pickle_template(file_path=file_path,\n",
    "                             col_date=col_date,\n",
    "                             array_col=array_col,\n",
    "                             date_col=date_col,\n",
    "                             id_col=id_col,\n",
    "                             some_feature=some_feature,\n",
    "                             one_layer=one_layer\n",
    "                            )"
   ]
  },
  {
   "cell_type": "code",
   "execution_count": 68,
   "metadata": {},
   "outputs": [],
   "source": [
    "file_paths = sorted(glob.glob(f'{pickle_file_path}/part*'))"
   ]
  },
  {
   "cell_type": "code",
   "execution_count": 69,
   "metadata": {},
   "outputs": [],
   "source": [
    "GLOBAL_PATH = 'data/receipts_serialized'"
   ]
  },
  {
   "cell_type": "code",
   "execution_count": 72,
   "metadata": {},
   "outputs": [],
   "source": [
    "!mkdir data/receipts_serialized"
   ]
  },
  {
   "cell_type": "code",
   "execution_count": 73,
   "metadata": {},
   "outputs": [
    {
     "name": "stderr",
     "output_type": "stream",
     "text": [
      "1it [00:00,  6.68it/s]\n"
     ]
    }
   ],
   "source": [
    "serialize_pickled(target_folder=GLOBAL_PATH, file_paths=file_paths, read_func=read_pickle)"
   ]
  },
  {
   "cell_type": "markdown",
   "metadata": {},
   "source": [
    "#### Работа с моделями"
   ]
  },
  {
   "cell_type": "code",
   "execution_count": 74,
   "metadata": {},
   "outputs": [],
   "source": [
    "from alpha_data_load.diskfile import DiskFile\n",
    "from alpha_data_load.dataset import Dataset\n",
    "from alpha_data_load.dataloader import DataLoader, get_easy_batch_transaction"
   ]
  },
  {
   "cell_type": "markdown",
   "metadata": {},
   "source": [
    "Твой DiskFile:"
   ]
  },
  {
   "cell_type": "code",
   "execution_count": 75,
   "metadata": {},
   "outputs": [],
   "source": [
    "data = DiskFile(os.path.join(GLOBAL_PATH, 'data.txt'), os.path.join(GLOBAL_PATH, 'index.txt'))"
   ]
  },
  {
   "cell_type": "markdown",
   "metadata": {},
   "source": [
    "Dataset это просто абстракция над Diskfile, которая позволяет таскать данные не по id, а просто по индексу"
   ]
  },
  {
   "cell_type": "code",
   "execution_count": 76,
   "metadata": {},
   "outputs": [],
   "source": [
    "dataset = Dataset(data, app_id=RECEIPT_ID, app_date='', features='', some_feature='0')"
   ]
  },
  {
   "cell_type": "code",
   "execution_count": 77,
   "metadata": {},
   "outputs": [
    {
     "data": {
      "text/plain": [
       "{'0': array([0.06999812, 0.18924706, 0.21722993, 0.5149987 , 0.21089943],\n",
       "       dtype=float32),\n",
       " '1': array([ 0.15990822, -0.40554327,  0.02196037,  0.43131843,  0.36119235],\n",
       "       dtype=float32),\n",
       " '2': array([ 0.4008634 , -0.43726364,  0.07333303,  0.35812753,  0.27695101],\n",
       "       dtype=float32),\n",
       " '3': array([-0.48013213,  0.12490778,  0.2812665 ,  0.2580878 , -0.59865505],\n",
       "       dtype=float32),\n",
       " '4': array([-0.67617327,  0.32774323, -0.44579032,  0.5126856 ,  0.43708882],\n",
       "       dtype=float32),\n",
       " 'event_time': array([ 883.05475, 3296.688  , 6320.827  , 7251.8076 , 8140.143  ],\n",
       "       dtype=float32),\n",
       " 'cat': array([3, 2, 2, 1, 2], dtype=int32),\n",
       " 'target_target': array([1, 1, 1, 1, 1]),\n",
       " 'receipt_id': 2}"
      ]
     },
     "execution_count": 77,
     "metadata": {},
     "output_type": "execute_result"
    }
   ],
   "source": [
    "dataset[1]"
   ]
  },
  {
   "cell_type": "markdown",
   "metadata": {},
   "source": [
    "Dataloader просто позволяет итерироваться по dataset с произвольным размером батча:"
   ]
  },
  {
   "cell_type": "code",
   "execution_count": 78,
   "metadata": {},
   "outputs": [],
   "source": [
    "# batch_size нужно задавать настолько большим, насколько это возможно, чтобы за один fit обрабатывалось как можно больше данных\n",
    "batch_size = 5000\n",
    "\n",
    "dataloader = DataLoader(dataset=dataset, batch_size=batch_size, get_batch_func=get_easy_batch_transaction)"
   ]
  },
  {
   "cell_type": "markdown",
   "metadata": {},
   "source": [
    "Как итерироваться по dataloder-у:"
   ]
  },
  {
   "cell_type": "code",
   "execution_count": 79,
   "metadata": {},
   "outputs": [
    {
     "name": "stdout",
     "output_type": "stream",
     "text": [
      "CPU times: user 79.4 ms, sys: 24.9 ms, total: 104 ms\n",
      "Wall time: 108 ms\n"
     ]
    }
   ],
   "source": [
    "%%time\n",
    "\n",
    "last_batch = None\n",
    "for batch in dataloader:\n",
    "    last_batch = batch"
   ]
  },
  {
   "cell_type": "code",
   "execution_count": 80,
   "metadata": {},
   "outputs": [
    {
     "data": {
      "text/plain": [
       "2889"
      ]
     },
     "execution_count": 80,
     "metadata": {},
     "output_type": "execute_result"
    }
   ],
   "source": [
    "len(last_batch)"
   ]
  },
  {
   "cell_type": "markdown",
   "metadata": {},
   "source": [
    "#### Часть 1: составление эмбеддингов"
   ]
  },
  {
   "cell_type": "markdown",
   "metadata": {},
   "source": [
    "Эта часть обычная для lifestream, можно посмотреть их ноутбук в demo/"
   ]
  },
  {
   "cell_type": "code",
   "execution_count": 81,
   "metadata": {},
   "outputs": [],
   "source": [
    "from dltranz.seq_encoder import SequenceEncoder\n",
    "from dltranz.models import Head\n",
    "from dltranz.lightning_modules.emb_module import EmbModule\n",
    "from dltranz.inference import get_embeddings\n",
    "from dltranz.data_load.data_module.emb_data_module import EmbeddingTrainDataModule\n",
    "\n",
    "import torch\n",
    "import pytorch_lightning as pl\n",
    "from pytorch_lightning.loggers import TensorBoardLogger"
   ]
  },
  {
   "cell_type": "code",
   "execution_count": 82,
   "metadata": {},
   "outputs": [],
   "source": [
    "seq_encoder = SequenceEncoder(\n",
    "    category_features=preprocessor.get_category_sizes(),\n",
    "    numeric_features=[str(i) for i in range(5)],\n",
    "    trx_embedding_noize=0.003, rnn_hidden_size=32\n",
    ")\n",
    "head = Head(input_size=seq_encoder.embedding_size, use_norm_encoder=True)\n",
    "\n",
    "model = EmbModule(seq_encoder=seq_encoder, head=head)"
   ]
  },
  {
   "cell_type": "code",
   "execution_count": 83,
   "metadata": {},
   "outputs": [],
   "source": [
    "%load_ext tensorboard"
   ]
  },
  {
   "cell_type": "markdown",
   "metadata": {},
   "source": [
    "Тренировочный цикл:"
   ]
  },
  {
   "cell_type": "code",
   "execution_count": 84,
   "metadata": {},
   "outputs": [
    {
     "data": {
      "text/plain": [
       "Reusing TensorBoard on port 6007 (pid 9791), started 20:57:32 ago. (Use '!kill 9791' to kill it.)"
      ]
     },
     "metadata": {},
     "output_type": "display_data"
    },
    {
     "data": {
      "text/html": [
       "\n",
       "      <iframe id=\"tensorboard-frame-cc957ac66b97db70\" width=\"100%\" height=\"800\" frameborder=\"0\">\n",
       "      </iframe>\n",
       "      <script>\n",
       "        (function() {\n",
       "          const frame = document.getElementById(\"tensorboard-frame-cc957ac66b97db70\");\n",
       "          const url = new URL(\"/\", window.location);\n",
       "          const port = 6007;\n",
       "          if (port) {\n",
       "            url.port = port;\n",
       "          }\n",
       "          frame.src = url;\n",
       "        })();\n",
       "      </script>\n",
       "    "
      ],
      "text/plain": [
       "<IPython.core.display.HTML object>"
      ]
     },
     "metadata": {},
     "output_type": "display_data"
    }
   ],
   "source": [
    "#%tensorboard --logdir tb_logs --host 10.110.147.198 --port NNNN - на сервере\n",
    "%tensorboard --logdir tb_logs"
   ]
  },
  {
   "cell_type": "code",
   "execution_count": 85,
   "metadata": {},
   "outputs": [],
   "source": [
    "logger = TensorBoardLogger('tb_logs', name='logs_embs_0')"
   ]
  },
  {
   "cell_type": "markdown",
   "metadata": {},
   "source": [
    "Параметры этого модуля можно и нужно менять:"
   ]
  },
  {
   "cell_type": "code",
   "execution_count": 86,
   "metadata": {},
   "outputs": [
    {
     "name": "stderr",
     "output_type": "stream",
     "text": [
      "/Users/photosartd/opt/anaconda3/envs/receipts/lib/python3.6/site-packages/pytorch_lightning/trainer/connectors/callback_connector.py:91: LightningDeprecationWarning: Setting `Trainer(progress_bar_refresh_rate=50)` is deprecated in v1.5 and will be removed in v1.7. Please pass `pytorch_lightning.callbacks.progress.TQDMProgressBar` with `refresh_rate` directly to the Trainer's `callbacks` argument instead. Or, to disable the progress bar pass `enable_progress_bar = False` to the Trainer.\n",
      "  f\"Setting `Trainer(progress_bar_refresh_rate={progress_bar_refresh_rate})` is deprecated in v1.5 and\"\n",
      "GPU available: False, used: False\n",
      "TPU available: False, using: 0 TPU cores\n",
      "IPU available: False, using: 0 IPUs\n"
     ]
    },
    {
     "name": "stdout",
     "output_type": "stream",
     "text": [
      "Batch loaded in: 0.09631514549255371\n"
     ]
    },
    {
     "data": {
      "application/vnd.jupyter.widget-view+json": {
       "model_id": "119259e291e2477e9b44ba71e20018c1",
       "version_major": 2,
       "version_minor": 0
      },
      "text/plain": [
       "0it [00:00, ?it/s]"
      ]
     },
     "metadata": {},
     "output_type": "display_data"
    },
    {
     "data": {
      "application/vnd.jupyter.widget-view+json": {
       "model_id": "196a08d074794e039a081ac60bd8e8ad",
       "version_major": 2,
       "version_minor": 0
      },
      "text/plain": [
       "0it [00:00, ?it/s]"
      ]
     },
     "metadata": {},
     "output_type": "display_data"
    },
    {
     "name": "stderr",
     "output_type": "stream",
     "text": [
      "\n",
      "  | Name               | Type             | Params\n",
      "--------------------------------------------------------\n",
      "0 | _seq_encoder       | SequenceEncoder  | 5.4 K \n",
      "1 | _validation_metric | BatchRecallTopPL | 0     \n",
      "2 | _head              | Head             | 0     \n",
      "--------------------------------------------------------\n",
      "5.4 K     Trainable params\n",
      "0         Non-trainable params\n",
      "5.4 K     Total params\n",
      "0.021     Total estimated model params size (MB)\n"
     ]
    },
    {
     "data": {
      "application/vnd.jupyter.widget-view+json": {
       "model_id": "",
       "version_major": 2,
       "version_minor": 0
      },
      "text/plain": [
       "Validation sanity check: 0it [00:00, ?it/s]"
      ]
     },
     "metadata": {},
     "output_type": "display_data"
    },
    {
     "data": {
      "application/vnd.jupyter.widget-view+json": {
       "model_id": "dc41e9ee84d044989c0ee8ce4da0adc5",
       "version_major": 2,
       "version_minor": 0
      },
      "text/plain": [
       "Training: 0it [00:00, ?it/s]"
      ]
     },
     "metadata": {},
     "output_type": "display_data"
    },
    {
     "data": {
      "application/vnd.jupyter.widget-view+json": {
       "model_id": "",
       "version_major": 2,
       "version_minor": 0
      },
      "text/plain": [
       "Validating: 0it [00:00, ?it/s]"
      ]
     },
     "metadata": {},
     "output_type": "display_data"
    },
    {
     "data": {
      "application/vnd.jupyter.widget-view+json": {
       "model_id": "",
       "version_major": 2,
       "version_minor": 0
      },
      "text/plain": [
       "Validating: 0it [00:00, ?it/s]"
      ]
     },
     "metadata": {},
     "output_type": "display_data"
    },
    {
     "data": {
      "application/vnd.jupyter.widget-view+json": {
       "model_id": "",
       "version_major": 2,
       "version_minor": 0
      },
      "text/plain": [
       "Validating: 0it [00:00, ?it/s]"
      ]
     },
     "metadata": {},
     "output_type": "display_data"
    },
    {
     "data": {
      "application/vnd.jupyter.widget-view+json": {
       "model_id": "",
       "version_major": 2,
       "version_minor": 0
      },
      "text/plain": [
       "Validating: 0it [00:00, ?it/s]"
      ]
     },
     "metadata": {},
     "output_type": "display_data"
    },
    {
     "data": {
      "application/vnd.jupyter.widget-view+json": {
       "model_id": "",
       "version_major": 2,
       "version_minor": 0
      },
      "text/plain": [
       "Validating: 0it [00:00, ?it/s]"
      ]
     },
     "metadata": {},
     "output_type": "display_data"
    },
    {
     "name": "stdout",
     "output_type": "stream",
     "text": [
      "Batch 0 processed in 5.591724157333374\n",
      "CPU times: user 7.94 s, sys: 1.84 s, total: 9.78 s\n",
      "Wall time: 5.69 s\n"
     ]
    }
   ],
   "source": [
    "%%time\n",
    "start_time = time.time()\n",
    "for idx, train_set in enumerate(dataloader):\n",
    "    end_time = time.time()\n",
    "    print(f'Batch loaded in: {end_time - start_time}')\n",
    "    dm = EmbeddingTrainDataModule(\n",
    "        dataset=train_set,\n",
    "        pl_module=model,\n",
    "        min_seq_len=0,\n",
    "        seq_split_strategy='SampleSlices',\n",
    "        category_names=model.seq_encoder.category_names,\n",
    "        category_max_size=model.seq_encoder.category_max_size,\n",
    "        split_count=2,\n",
    "        split_cnt_min=1,\n",
    "        split_cnt_max=20,\n",
    "        train_num_workers=8,\n",
    "        train_batch_size=256,\n",
    "        valid_num_workers=8,\n",
    "        valid_batch_size=256,\n",
    "    )\n",
    "    trainer = pl.Trainer(\n",
    "        progress_bar_refresh_rate=50,\n",
    "        log_every_n_steps=1,\n",
    "        max_epochs=5,\n",
    "        gpus = 0 if torch.cuda.is_available() else None,\n",
    "        logger=logger\n",
    "    )\n",
    "    trainer.fit(model, dm)\n",
    "    print(f'Batch {idx} processed in {time.time() - end_time}')\n",
    "    start_time = time.time()"
   ]
  },
  {
   "cell_type": "markdown",
   "metadata": {},
   "source": [
    "Получение эмбеддингов:"
   ]
  },
  {
   "cell_type": "code",
   "execution_count": 87,
   "metadata": {},
   "outputs": [
    {
     "name": "stderr",
     "output_type": "stream",
     "text": [
      "2889it [00:00, 26288.73it/s]\n",
      "                                             "
     ]
    },
    {
     "name": "stdout",
     "output_type": "stream",
     "text": [
      "Time taken: 0.3164360523223877\n",
      "CPU times: user 292 ms, sys: 34.4 ms, total: 326 ms\n",
      "Wall time: 317 ms\n"
     ]
    },
    {
     "name": "stderr",
     "output_type": "stream",
     "text": [
      "\r"
     ]
    }
   ],
   "source": [
    "%%time\n",
    "\n",
    "receipts_embeddings = []\n",
    "start = time.time()\n",
    "for idx, train_set in enumerate(dataloader):\n",
    "    train_part = get_embeddings(\n",
    "        data=train_set,\n",
    "        model=model,\n",
    "        category_names=model.seq_encoder.category_names,\n",
    "        category_max_size=model.seq_encoder.category_max_size\n",
    "    )\n",
    "    receipts_embeddings.append(train_part)\n",
    "    end = time.time()\n",
    "    print(f'Time taken: {end - start}')\n",
    "    start = end\n",
    "receipts_embeddings = np.vstack(receipts_embeddings)"
   ]
  },
  {
   "cell_type": "code",
   "execution_count": 88,
   "metadata": {},
   "outputs": [
    {
     "data": {
      "text/plain": [
       "(2889, 32)"
      ]
     },
     "execution_count": 88,
     "metadata": {},
     "output_type": "execute_result"
    }
   ],
   "source": [
    "#[количество чеков, размерность эмбеддинга]\n",
    "receipts_embeddings.shape"
   ]
  },
  {
   "cell_type": "markdown",
   "metadata": {},
   "source": [
    "#### Часть 2: downstream_task"
   ]
  },
  {
   "cell_type": "markdown",
   "metadata": {},
   "source": [
    "Сначала нужно распределить чеки по user_id. Так как чики хранились отсортированными по RECEIPTS_ID, то и их эмбеддинги тоже отсортированны, нам нужно просто сделать маппинг (который нужно на реальных данных подготовить еще на кластере)"
   ]
  },
  {
   "cell_type": "markdown",
   "metadata": {},
   "source": [
    "Предположим, что было 150 клиентов:"
   ]
  },
  {
   "cell_type": "code",
   "execution_count": 97,
   "metadata": {},
   "outputs": [],
   "source": [
    "#заявки -> соответствующие им промежутки id чеков\n",
    "app_ids_to_receipts_ids = {i: (20*(i - 1) + 1, 20 * i) for i in range(1, 146)}"
   ]
  },
  {
   "cell_type": "code",
   "execution_count": 98,
   "metadata": {},
   "outputs": [],
   "source": [
    "#так как только 2882 чека\n",
    "#таких проблем с реальным маппингом не будет\n",
    "app_ids_to_receipts_ids[145] = (2881, receipts_embeddings.shape[0] - 1)"
   ]
  },
  {
   "cell_type": "markdown",
   "metadata": {},
   "source": [
    "Здесь на искуственных данных нужно отследить, что id ровно столько, сколько сгенерилось чеков"
   ]
  },
  {
   "cell_type": "code",
   "execution_count": 99,
   "metadata": {},
   "outputs": [],
   "source": [
    "receipt_ids_to_app_ids = {\n",
    "    receipt_id: app_id\n",
    "    for app_id, tup in app_ids_to_receipts_ids.items()\n",
    "    for receipt_id in range(tup[0], tup[1] + 1)\n",
    "}"
   ]
  },
  {
   "cell_type": "code",
   "execution_count": 100,
   "metadata": {},
   "outputs": [
    {
     "data": {
      "text/plain": [
       "2"
      ]
     },
     "execution_count": 100,
     "metadata": {},
     "output_type": "execute_result"
    }
   ],
   "source": [
    "receipt_ids_to_app_ids[21]"
   ]
  },
  {
   "cell_type": "markdown",
   "metadata": {},
   "source": [
    "Про класс ниже можно почитать доку"
   ]
  },
  {
   "cell_type": "code",
   "execution_count": 101,
   "metadata": {},
   "outputs": [],
   "source": [
    "from alpha_data_load.utilities import DatasetsGenerator"
   ]
  },
  {
   "cell_type": "code",
   "execution_count": 102,
   "metadata": {},
   "outputs": [],
   "source": [
    "dataset_generator = DatasetsGenerator(dataset, receipt_ids_to_app_ids, id_col=RECEIPT_ID, target_col='target_target')"
   ]
  },
  {
   "cell_type": "code",
   "execution_count": 103,
   "metadata": {},
   "outputs": [
    {
     "name": "stderr",
     "output_type": "stream",
     "text": [
      "100%|██████████| 145/145 [00:00<00:00, 1560.97it/s]\n"
     ]
    }
   ],
   "source": [
    "res = dataset_generator(receipts_embeddings)"
   ]
  },
  {
   "cell_type": "markdown",
   "metadata": {},
   "source": [
    "Как выглядит один семпл: Tuple[Dict, int]"
   ]
  },
  {
   "cell_type": "code",
   "execution_count": 104,
   "metadata": {},
   "outputs": [
    {
     "data": {
      "text/plain": [
       "({'receipt_id': 1.0,\n",
       "  '0': array([ 0.27910092,  0.5252086 ,  0.11165908, -0.02218523,  0.24247044,\n",
       "          0.310381  ,  0.04120712,  0.51737857,  0.45540878,  0.4699042 ,\n",
       "          0.14008899,  0.01874733,  0.4467544 ,  0.36327326,  0.03977561,\n",
       "          0.4734821 ,  0.30410612,  0.23712412,  0.16762829,  0.17979477],\n",
       "        dtype=float32),\n",
       "  '1': array([-0.08909094, -0.457062  , -0.19610643, -0.09879395, -0.08763146,\n",
       "         -0.4171199 , -0.08267222, -0.5367806 , -0.35846817, -0.289579  ,\n",
       "         -0.12352007, -0.28352857, -0.31207332, -0.3169745 ,  0.28155258,\n",
       "         -0.16134907, -0.36622337, -0.26354057, -0.28993714, -0.44213387],\n",
       "        dtype=float32),\n",
       "  '2': array([ 0.01987745, -0.39330494, -0.64115   , -0.30135262, -0.2698008 ,\n",
       "         -0.33657405, -0.1455698 , -0.12504806, -0.26581216, -0.54488486,\n",
       "         -0.7667012 , -0.338543  , -0.14303362, -0.4619649 , -0.28063688,\n",
       "         -0.33899334, -0.5601277 ,  0.09214871, -0.20367323, -0.5832383 ],\n",
       "        dtype=float32),\n",
       "  '3': array([-0.22198093, -0.1252102 ,  0.22898342,  0.45139006, -0.30160734,\n",
       "         -0.02675247, -0.3453431 , -0.48134673, -0.1718309 ,  0.05445445,\n",
       "         -0.04935837,  0.01550972, -0.02287945, -0.02926736, -0.09483698,\n",
       "         -0.16766778,  0.15565455, -0.32345474, -0.34057093, -0.11723495],\n",
       "        dtype=float32),\n",
       "  '4': array([-0.32215634, -0.14834137,  0.16330367, -0.15495864, -0.11279343,\n",
       "         -0.24833581, -0.553811  , -0.23323512, -0.46026367, -0.0205785 ,\n",
       "         -0.07671287, -0.07210413, -0.4347133 , -0.10378975, -0.4420289 ,\n",
       "         -0.00822609,  0.01410769, -0.29179606, -0.50380313, -0.30173555],\n",
       "        dtype=float32),\n",
       "  '5': array([-0.34676772, -0.266574  ,  0.05327057, -0.07286999, -0.08430582,\n",
       "         -0.16201779, -0.31162083, -0.58862376, -0.3154586 , -0.6019317 ,\n",
       "         -0.15798633, -0.32397893, -0.61622685, -0.5309286 , -0.22912669,\n",
       "         -0.49099922, -0.588832  , -0.1519508 , -0.29537097, -0.23227534],\n",
       "        dtype=float32),\n",
       "  '6': array([ 0.08457594,  0.612954  ,  0.19669315,  0.07512625,  0.23790243,\n",
       "          0.5088318 , -0.03754051,  0.35945126,  0.4221071 ,  0.21006235,\n",
       "          0.21319425,  0.1513533 ,  0.37094903,  0.08947468,  0.11160633,\n",
       "          0.20331904,  0.26930436,  0.3877495 ,  0.18170571,  0.12974566],\n",
       "        dtype=float32),\n",
       "  '7': array([-0.08296275, -0.03297053, -0.17081101, -0.02099413, -0.31351092,\n",
       "          0.09871063, -0.14202765, -0.39431626, -0.282579  , -0.14860079,\n",
       "         -0.37350488, -0.45793483, -0.44068706,  0.00180551, -0.35105553,\n",
       "          0.03532134, -0.5242998 , -0.05887058, -0.3487576 , -0.37660715],\n",
       "        dtype=float32),\n",
       "  '8': array([ 0.33367378,  0.6513008 ,  0.5544719 ,  0.1976136 ,  0.3068353 ,\n",
       "          0.55931413, -0.00153725,  0.41131496,  0.18225327,  0.6319609 ,\n",
       "          0.45357132,  0.14861852,  0.1981853 ,  0.5412219 ,  0.19320075,\n",
       "          0.5050107 ,  0.3732882 ,  0.2287257 , -0.13291147,  0.09557588],\n",
       "        dtype=float32),\n",
       "  '9': array([-0.11358261, -0.2399534 , -0.10163322, -0.4172932 , -0.25593236,\n",
       "         -0.3526557 , -0.29489413, -0.45523196, -0.3610503 , -0.45317495,\n",
       "          0.01592076, -0.37988713, -0.7281797 , -0.496373  , -0.21451417,\n",
       "         -0.17968631, -0.51665866, -0.31656864, -0.5127458 , -0.500122  ],\n",
       "        dtype=float32),\n",
       "  '10': array([ 0.573197  ,  0.21963367, -0.33919427,  0.02228095, -0.06683123,\n",
       "         -0.03878945,  0.25855607,  0.3302105 ,  0.20401192,  0.07405392,\n",
       "         -0.40167886,  0.06585822,  0.5423725 ,  0.25952718,  0.1411677 ,\n",
       "          0.13827825,  0.16991149,  0.10354251,  0.31214508,  0.31769317],\n",
       "        dtype=float32),\n",
       "  '11': array([-0.07884012,  0.32029638,  0.25950366, -0.05363254,  0.25287956,\n",
       "          0.275742  , -0.09678701,  0.19469185,  0.15307984, -0.09720138,\n",
       "          0.46491793,  0.03564227,  0.05804247, -0.17967774,  0.04071961,\n",
       "          0.06879906, -0.07867867,  0.34502113,  0.09723383,  0.02165398],\n",
       "        dtype=float32),\n",
       "  '12': array([ 0.09966934, -0.0427677 , -0.17261516,  0.3915242 ,  0.01934933,\n",
       "          0.33030877,  0.34856144,  0.00669806,  0.06853023,  0.3978418 ,\n",
       "         -0.1953305 ,  0.44109797,  0.56471497, -0.00332476, -0.0656983 ,\n",
       "         -0.36752284,  0.30620736,  0.03606844,  0.5773429 ,  0.2922408 ],\n",
       "        dtype=float32),\n",
       "  '13': array([-0.24299945, -0.35007015, -0.20052204, -0.07685463, -0.3604641 ,\n",
       "         -0.11513728, -0.00438398, -0.07487077, -0.15726106,  0.01186039,\n",
       "         -0.5367381 , -0.16410694, -0.199785  ,  0.08054647, -0.31776333,\n",
       "          0.02073013,  0.06101297, -0.2581916 , -0.37550718, -0.3752737 ],\n",
       "        dtype=float32),\n",
       "  '14': array([ 0.367584  ,  0.63792276,  0.41685843,  0.27781343,  0.7017276 ,\n",
       "          0.60573334,  0.26812464,  0.4897581 ,  0.57762146,  0.03899655,\n",
       "          0.5502918 ,  0.45518032,  0.597372  ,  0.11124112,  0.60522175,\n",
       "         -0.13475162,  0.41022298,  0.3440233 ,  0.6451026 ,  0.6516323 ],\n",
       "        dtype=float32),\n",
       "  '15': array([-0.21131328, -0.2583085 , -0.5235589 , -0.34152862, -0.59508455,\n",
       "         -0.18106282, -0.25546205, -0.42358708, -0.48205277, -0.19275354,\n",
       "         -0.675052  , -0.66342205, -0.4835587 , -0.26714104, -0.62490857,\n",
       "         -0.20522362, -0.6251698 , -0.2714763 , -0.62930363, -0.6330921 ],\n",
       "        dtype=float32),\n",
       "  '16': array([-0.19543299, -0.5383598 , -0.21052377, -0.24414507, -0.16018793,\n",
       "         -0.54728353, -0.18480006, -0.05507573, -0.4059742 , -0.23820452,\n",
       "         -0.4942153 ,  0.00545253, -0.24626596, -0.03754213, -0.23075034,\n",
       "         -0.00664357, -0.33178812, -0.13413568, -0.21277219, -0.4018098 ],\n",
       "        dtype=float32),\n",
       "  '17': array([-0.11122829, -0.565847  , -0.70340043, -0.21923411, -0.62021685,\n",
       "         -0.506199  ,  0.00307505, -0.5684197 , -0.69361454, -0.66558725,\n",
       "         -0.63243806, -0.62382567, -0.4732897 , -0.5536921 , -0.6044578 ,\n",
       "         -0.63106894, -0.5673816 , -0.32415816, -0.45132053, -0.15249169],\n",
       "        dtype=float32),\n",
       "  '18': array([-0.00844485, -0.250915  , -0.29469752, -0.09527161,  0.04433475,\n",
       "         -0.01440388,  0.22706209, -0.16999698,  0.27717644, -0.26572376,\n",
       "          0.30571342, -0.04918703, -0.20182341, -0.11229812,  0.31632417,\n",
       "          0.03015711,  0.07980937, -0.04196057,  0.12549716, -0.02408928],\n",
       "        dtype=float32),\n",
       "  '19': array([ 0.1309647 ,  0.6263256 ,  0.34872285,  0.04121579,  0.2954784 ,\n",
       "          0.33957648,  0.12159252, -0.10824893,  0.30612642,  0.22281265,\n",
       "          0.6037564 ,  0.06660411,  0.20430706,  0.00261939,  0.21584621,\n",
       "         -0.18860772,  0.41164613,  0.02296447,  0.09482288,  0.55811596],\n",
       "        dtype=float32),\n",
       "  '20': array([-0.04827449,  0.6651462 ,  0.6963403 ,  0.54528034,  0.39710838,\n",
       "          0.5119616 , -0.05303876,  0.5818238 ,  0.59885466,  0.55571765,\n",
       "          0.61048776,  0.618708  ,  0.47366226,  0.60066783,  0.1834484 ,\n",
       "          0.47979775,  0.74698573,  0.40950012,  0.23717567,  0.43422908],\n",
       "        dtype=float32),\n",
       "  '21': array([-0.03763002, -0.21118954, -0.21837336, -0.2428599 ,  0.38424158,\n",
       "         -0.10529059,  0.15234888,  0.27298778,  0.09337455,  0.0615921 ,\n",
       "         -0.29361492,  0.01053272,  0.15367594,  0.17782848,  0.39293823,\n",
       "          0.11351642, -0.12178566,  0.1750265 ,  0.07586979,  0.097458  ],\n",
       "        dtype=float32),\n",
       "  '22': array([-0.02653661,  0.02796876,  0.18125054,  0.00602388,  0.13855362,\n",
       "         -0.14553069,  0.04066374, -0.3101138 ,  0.0609307 , -0.04662061,\n",
       "          0.44496995, -0.0329465 , -0.25855908, -0.18641011,  0.5449158 ,\n",
       "         -0.10721982,  0.3972657 , -0.25446546, -0.07531545,  0.5453361 ],\n",
       "        dtype=float32),\n",
       "  '23': array([ 0.11303931,  0.18334237, -0.1319596 , -0.11469166, -0.01230478,\n",
       "         -0.04282533, -0.11348137,  0.17245598, -0.08122279,  0.03789789,\n",
       "         -0.08894147,  0.04647474,  0.23881206, -0.06202346, -0.08053645,\n",
       "         -0.1328403 ,  0.05798289,  0.03996174,  0.13117386,  0.05373573],\n",
       "        dtype=float32),\n",
       "  '24': array([-0.35509005, -0.20351776,  0.05140813, -0.04235951, -0.08216514,\n",
       "         -0.11837736, -0.20937172,  0.04639494, -0.07267897, -0.31813428,\n",
       "          0.12586477,  0.10958558, -0.25647083, -0.20582363, -0.45720208,\n",
       "         -0.15915   , -0.00304957, -0.06737965,  0.0292505 , -0.11742789],\n",
       "        dtype=float32),\n",
       "  '25': array([-0.26444137, -0.14850064, -0.15986231, -0.29751015, -0.4568408 ,\n",
       "         -0.22474967, -0.4249462 , -0.40586078, -0.5611857 , -0.1481027 ,\n",
       "         -0.24719295, -0.5270265 , -0.4225273 , -0.21582721, -0.5816828 ,\n",
       "         -0.00636014, -0.43943232, -0.2565086 , -0.6947063 , -0.74524397],\n",
       "        dtype=float32),\n",
       "  '26': array([ 0.18916196,  0.16292989,  0.4608691 ,  0.36161017,  0.44094163,\n",
       "          0.07261261,  0.11104319, -0.29404634, -0.04971359,  0.36206922,\n",
       "          0.56928486,  0.6249337 ,  0.36611858,  0.06371907,  0.5796658 ,\n",
       "         -0.07134867,  0.50211656, -0.1395303 ,  0.43860018,  0.37864262],\n",
       "        dtype=float32),\n",
       "  '27': array([ 0.301441  , -0.048628  , -0.14861545, -0.09090859,  0.09750157,\n",
       "         -0.16039972,  0.13414715,  0.10737294,  0.1495252 , -0.00637553,\n",
       "          0.0181371 , -0.26763278,  0.21066403, -0.06055255,  0.09119472,\n",
       "          0.44087064, -0.17370296, -0.00293486, -0.22152776, -0.16861182],\n",
       "        dtype=float32),\n",
       "  '28': array([-0.5361198 , -0.52364314, -0.07063806, -0.28089088, -0.3301528 ,\n",
       "         -0.57913977, -0.64335835, -0.63488066, -0.63515884, -0.60603184,\n",
       "         -0.24987875, -0.25260317, -0.57827127, -0.57513195, -0.5835775 ,\n",
       "         -0.48533773, -0.32473394, -0.46330553, -0.4982143 , -0.4421101 ],\n",
       "        dtype=float32),\n",
       "  '29': array([-0.06033532, -0.04965213,  0.29079056, -0.13074234,  0.02036756,\n",
       "         -0.08272377,  0.2886736 , -0.3242224 ,  0.14701712,  0.09015045,\n",
       "          0.33678785, -0.18418626, -0.42358756, -0.068146  ,  0.02078233,\n",
       "         -0.04403704,  0.2526067 , -0.38615724, -0.23903126,  0.41258776],\n",
       "        dtype=float32),\n",
       "  '30': array([-0.32368687, -0.12990667, -0.5401422 , -0.4238254 , -0.40058666,\n",
       "         -0.07731644, -0.24629611, -0.38150656, -0.46923926, -0.6755656 ,\n",
       "         -0.73033595, -0.72001946, -0.5239083 , -0.39514524, -0.789767  ,\n",
       "         -0.09628852, -0.81107986, -0.04559897, -0.46032152, -0.7592812 ],\n",
       "        dtype=float32),\n",
       "  '31': array([ 0.15446243,  0.21980828,  0.09252867, -0.10520777,  0.10014197,\n",
       "          0.4025444 ,  0.3261141 ,  0.31990367,  0.23583281,  0.12722588,\n",
       "          0.06266093,  0.01761112, -0.08904395, -0.10225663, -0.29237226,\n",
       "          0.09294468, -0.01248717,  0.43354884,  0.33616284,  0.4235389 ],\n",
       "        dtype=float32)},\n",
       " 1)"
      ]
     },
     "execution_count": 104,
     "metadata": {},
     "output_type": "execute_result"
    }
   ],
   "source": [
    "res[0]"
   ]
  },
  {
   "cell_type": "markdown",
   "metadata": {},
   "source": [
    "Мои модули, можешь зайти туда и сам менять какие-то вещи, либо (пере)просто писать нужный класс для lightning на основе тех, что есть в lifestream"
   ]
  },
  {
   "cell_type": "code",
   "execution_count": 108,
   "metadata": {},
   "outputs": [],
   "source": [
    "from dltranz.lightning_modules.classification_module import ClassificationModule\n",
    "from dltranz.data_load.data_module.receipts_data_module import ReceiptsTrainDataModule"
   ]
  },
  {
   "cell_type": "code",
   "execution_count": 109,
   "metadata": {},
   "outputs": [],
   "source": [
    "rnn_hid = 16\n",
    "new_seq_encoder = SequenceEncoder(category_features={},\n",
    "                                  numeric_features=dataset_generator.features,\n",
    "                                  rnn_hidden_size=rnn_hid\n",
    "                                 )\n",
    "new_head = Head(rnn_hid, True, objective='classification')"
   ]
  },
  {
   "cell_type": "code",
   "execution_count": 116,
   "metadata": {},
   "outputs": [],
   "source": [
    "class_model = ClassificationModule(new_seq_encoder, new_head)"
   ]
  },
  {
   "cell_type": "markdown",
   "metadata": {},
   "source": [
    "Если данных будет много, нужно будет делать следующие шаги с подгрузкой данных в оперативку или сразу после получения части эмбеддингов, сейчас просто за 1 fit"
   ]
  },
  {
   "cell_type": "code",
   "execution_count": 111,
   "metadata": {},
   "outputs": [],
   "source": [
    "logger_classification = TensorBoardLogger('tb_logs', name='logs_class_0')"
   ]
  },
  {
   "cell_type": "code",
   "execution_count": 118,
   "metadata": {},
   "outputs": [],
   "source": [
    "test_size = 10\n",
    "\n",
    "data_module = ReceiptsTrainDataModule(\n",
    "    dataset=res[:-test_size],\n",
    "    test_dataset=deepcopy(res[-test_size:]),\n",
    "    train_num_workers=8,\n",
    "    train_batch_size=64,\n",
    "    valid_num_workers=8,\n",
    "    valid_batch_size=64,\n",
    "    val_size=0.3,\n",
    "    weighted=True\n",
    ")"
   ]
  },
  {
   "cell_type": "code",
   "execution_count": 119,
   "metadata": {},
   "outputs": [
    {
     "name": "stderr",
     "output_type": "stream",
     "text": [
      "GPU available: False, used: False\n",
      "TPU available: False, using: 0 TPU cores\n",
      "IPU available: False, using: 0 IPUs\n"
     ]
    }
   ],
   "source": [
    "classification_trainer = pl.Trainer(\n",
    "    progress_bar_refresh_rate=50,\n",
    "    max_epochs=10,\n",
    "    gpus=0 if torch.cuda.is_available() else None,\n",
    "    log_every_n_steps=1,\n",
    "    logger=logger_classification\n",
    ")"
   ]
  },
  {
   "cell_type": "code",
   "execution_count": 120,
   "metadata": {},
   "outputs": [
    {
     "name": "stderr",
     "output_type": "stream",
     "text": [
      "\n",
      "  | Name               | Type            | Params\n",
      "-------------------------------------------------------\n",
      "0 | _loss              | BCELoss         | 0     \n",
      "1 | _seq_encoder       | SequenceEncoder | 2.5 K \n",
      "2 | _validation_metric | AUROC           | 0     \n",
      "3 | _head              | Head            | 17    \n",
      "-------------------------------------------------------\n",
      "2.5 K     Trainable params\n",
      "0         Non-trainable params\n",
      "2.5 K     Total params\n",
      "0.010     Total estimated model params size (MB)\n"
     ]
    },
    {
     "data": {
      "application/vnd.jupyter.widget-view+json": {
       "model_id": "",
       "version_major": 2,
       "version_minor": 0
      },
      "text/plain": [
       "Validation sanity check: 0it [00:00, ?it/s]"
      ]
     },
     "metadata": {},
     "output_type": "display_data"
    },
    {
     "data": {
      "application/vnd.jupyter.widget-view+json": {
       "model_id": "3f30192fe1b04e2d9600f007b14fbda9",
       "version_major": 2,
       "version_minor": 0
      },
      "text/plain": [
       "Training: 0it [00:00, ?it/s]"
      ]
     },
     "metadata": {},
     "output_type": "display_data"
    },
    {
     "data": {
      "application/vnd.jupyter.widget-view+json": {
       "model_id": "",
       "version_major": 2,
       "version_minor": 0
      },
      "text/plain": [
       "Validating: 0it [00:00, ?it/s]"
      ]
     },
     "metadata": {},
     "output_type": "display_data"
    },
    {
     "data": {
      "application/vnd.jupyter.widget-view+json": {
       "model_id": "",
       "version_major": 2,
       "version_minor": 0
      },
      "text/plain": [
       "Validating: 0it [00:00, ?it/s]"
      ]
     },
     "metadata": {},
     "output_type": "display_data"
    },
    {
     "data": {
      "application/vnd.jupyter.widget-view+json": {
       "model_id": "",
       "version_major": 2,
       "version_minor": 0
      },
      "text/plain": [
       "Validating: 0it [00:00, ?it/s]"
      ]
     },
     "metadata": {},
     "output_type": "display_data"
    },
    {
     "data": {
      "application/vnd.jupyter.widget-view+json": {
       "model_id": "",
       "version_major": 2,
       "version_minor": 0
      },
      "text/plain": [
       "Validating: 0it [00:00, ?it/s]"
      ]
     },
     "metadata": {},
     "output_type": "display_data"
    },
    {
     "data": {
      "application/vnd.jupyter.widget-view+json": {
       "model_id": "",
       "version_major": 2,
       "version_minor": 0
      },
      "text/plain": [
       "Validating: 0it [00:00, ?it/s]"
      ]
     },
     "metadata": {},
     "output_type": "display_data"
    },
    {
     "data": {
      "application/vnd.jupyter.widget-view+json": {
       "model_id": "",
       "version_major": 2,
       "version_minor": 0
      },
      "text/plain": [
       "Validating: 0it [00:00, ?it/s]"
      ]
     },
     "metadata": {},
     "output_type": "display_data"
    },
    {
     "data": {
      "application/vnd.jupyter.widget-view+json": {
       "model_id": "",
       "version_major": 2,
       "version_minor": 0
      },
      "text/plain": [
       "Validating: 0it [00:00, ?it/s]"
      ]
     },
     "metadata": {},
     "output_type": "display_data"
    },
    {
     "data": {
      "application/vnd.jupyter.widget-view+json": {
       "model_id": "",
       "version_major": 2,
       "version_minor": 0
      },
      "text/plain": [
       "Validating: 0it [00:00, ?it/s]"
      ]
     },
     "metadata": {},
     "output_type": "display_data"
    },
    {
     "data": {
      "application/vnd.jupyter.widget-view+json": {
       "model_id": "",
       "version_major": 2,
       "version_minor": 0
      },
      "text/plain": [
       "Validating: 0it [00:00, ?it/s]"
      ]
     },
     "metadata": {},
     "output_type": "display_data"
    },
    {
     "data": {
      "application/vnd.jupyter.widget-view+json": {
       "model_id": "",
       "version_major": 2,
       "version_minor": 0
      },
      "text/plain": [
       "Validating: 0it [00:00, ?it/s]"
      ]
     },
     "metadata": {},
     "output_type": "display_data"
    },
    {
     "name": "stdout",
     "output_type": "stream",
     "text": [
      "CPU times: user 2.1 s, sys: 1.77 s, total: 3.87 s\n",
      "Wall time: 4.09 s\n"
     ]
    }
   ],
   "source": [
    "%%time\n",
    "\n",
    "classification_trainer.fit(class_model, data_module)"
   ]
  }
 ],
 "metadata": {
  "kernelspec": {
   "display_name": "Python 3",
   "language": "python",
   "name": "python3"
  },
  "language_info": {
   "codemirror_mode": {
    "name": "ipython",
    "version": 3
   },
   "file_extension": ".py",
   "mimetype": "text/x-python",
   "name": "python",
   "nbconvert_exporter": "python",
   "pygments_lexer": "ipython3",
   "version": "3.6.13"
  }
 },
 "nbformat": 4,
 "nbformat_minor": 1
}
